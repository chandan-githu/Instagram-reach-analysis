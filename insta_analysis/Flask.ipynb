{
  "nbformat": 4,
  "nbformat_minor": 0,
  "metadata": {
    "colab": {
      "provenance": []
    },
    "kernelspec": {
      "name": "python3",
      "display_name": "Python 3"
    },
    "language_info": {
      "name": "python"
    }
  },
  "cells": [
    {
      "cell_type": "code",
      "execution_count": null,
      "metadata": {
        "colab": {
          "base_uri": "https://localhost:8080/"
        },
        "id": "IgHcFI9PESba",
        "outputId": "53686ef5-05f2-4b9f-b474-4d50f977fdf4"
      },
      "outputs": [
        {
          "output_type": "stream",
          "name": "stdout",
          "text": [
            "Requirement already satisfied: pandas in /usr/local/lib/python3.10/dist-packages (2.2.2)\n",
            "Requirement already satisfied: numpy>=1.22.4 in /usr/local/lib/python3.10/dist-packages (from pandas) (1.26.4)\n",
            "Requirement already satisfied: python-dateutil>=2.8.2 in /usr/local/lib/python3.10/dist-packages (from pandas) (2.8.2)\n",
            "Requirement already satisfied: pytz>=2020.1 in /usr/local/lib/python3.10/dist-packages (from pandas) (2024.2)\n",
            "Requirement already satisfied: tzdata>=2022.7 in /usr/local/lib/python3.10/dist-packages (from pandas) (2024.2)\n",
            "Requirement already satisfied: six>=1.5 in /usr/local/lib/python3.10/dist-packages (from python-dateutil>=2.8.2->pandas) (1.17.0)\n"
          ]
        }
      ],
      "source": [
        "pip install pandas"
      ]
    },
    {
      "cell_type": "code",
      "source": [
        "\n",
        "pip install numpy\n"
      ],
      "metadata": {
        "colab": {
          "base_uri": "https://localhost:8080/"
        },
        "id": "kfIFo73fEbm5",
        "outputId": "27d9df82-b9a8-49f5-8127-ee5521243358"
      },
      "execution_count": null,
      "outputs": [
        {
          "output_type": "stream",
          "name": "stdout",
          "text": [
            "Requirement already satisfied: numpy in /usr/local/lib/python3.10/dist-packages (1.26.4)\n"
          ]
        }
      ]
    },
    {
      "cell_type": "code",
      "source": [
        "pip install matplotlib\n"
      ],
      "metadata": {
        "colab": {
          "base_uri": "https://localhost:8080/"
        },
        "id": "fvqMXRVGEc2Y",
        "outputId": "8d6a4af5-338c-4034-e7d5-ecbe2590e7f3"
      },
      "execution_count": null,
      "outputs": [
        {
          "output_type": "stream",
          "name": "stdout",
          "text": [
            "Requirement already satisfied: matplotlib in /usr/local/lib/python3.10/dist-packages (3.8.0)\n",
            "Requirement already satisfied: contourpy>=1.0.1 in /usr/local/lib/python3.10/dist-packages (from matplotlib) (1.3.1)\n",
            "Requirement already satisfied: cycler>=0.10 in /usr/local/lib/python3.10/dist-packages (from matplotlib) (0.12.1)\n",
            "Requirement already satisfied: fonttools>=4.22.0 in /usr/local/lib/python3.10/dist-packages (from matplotlib) (4.55.3)\n",
            "Requirement already satisfied: kiwisolver>=1.0.1 in /usr/local/lib/python3.10/dist-packages (from matplotlib) (1.4.7)\n",
            "Requirement already satisfied: numpy<2,>=1.21 in /usr/local/lib/python3.10/dist-packages (from matplotlib) (1.26.4)\n",
            "Requirement already satisfied: packaging>=20.0 in /usr/local/lib/python3.10/dist-packages (from matplotlib) (24.2)\n",
            "Requirement already satisfied: pillow>=6.2.0 in /usr/local/lib/python3.10/dist-packages (from matplotlib) (11.0.0)\n",
            "Requirement already satisfied: pyparsing>=2.3.1 in /usr/local/lib/python3.10/dist-packages (from matplotlib) (3.2.0)\n",
            "Requirement already satisfied: python-dateutil>=2.7 in /usr/local/lib/python3.10/dist-packages (from matplotlib) (2.8.2)\n",
            "Requirement already satisfied: six>=1.5 in /usr/local/lib/python3.10/dist-packages (from python-dateutil>=2.7->matplotlib) (1.17.0)\n"
          ]
        }
      ]
    },
    {
      "cell_type": "code",
      "source": [
        "pip install seaborn"
      ],
      "metadata": {
        "colab": {
          "base_uri": "https://localhost:8080/"
        },
        "id": "fOXyC9pLEiKH",
        "outputId": "e18776f3-dafc-449a-86cf-99c822bd9f7f"
      },
      "execution_count": null,
      "outputs": [
        {
          "output_type": "stream",
          "name": "stdout",
          "text": [
            "Requirement already satisfied: seaborn in /usr/local/lib/python3.10/dist-packages (0.13.2)\n",
            "Requirement already satisfied: numpy!=1.24.0,>=1.20 in /usr/local/lib/python3.10/dist-packages (from seaborn) (1.26.4)\n",
            "Requirement already satisfied: pandas>=1.2 in /usr/local/lib/python3.10/dist-packages (from seaborn) (2.2.2)\n",
            "Requirement already satisfied: matplotlib!=3.6.1,>=3.4 in /usr/local/lib/python3.10/dist-packages (from seaborn) (3.8.0)\n",
            "Requirement already satisfied: contourpy>=1.0.1 in /usr/local/lib/python3.10/dist-packages (from matplotlib!=3.6.1,>=3.4->seaborn) (1.3.1)\n",
            "Requirement already satisfied: cycler>=0.10 in /usr/local/lib/python3.10/dist-packages (from matplotlib!=3.6.1,>=3.4->seaborn) (0.12.1)\n",
            "Requirement already satisfied: fonttools>=4.22.0 in /usr/local/lib/python3.10/dist-packages (from matplotlib!=3.6.1,>=3.4->seaborn) (4.55.3)\n",
            "Requirement already satisfied: kiwisolver>=1.0.1 in /usr/local/lib/python3.10/dist-packages (from matplotlib!=3.6.1,>=3.4->seaborn) (1.4.7)\n",
            "Requirement already satisfied: packaging>=20.0 in /usr/local/lib/python3.10/dist-packages (from matplotlib!=3.6.1,>=3.4->seaborn) (24.2)\n",
            "Requirement already satisfied: pillow>=6.2.0 in /usr/local/lib/python3.10/dist-packages (from matplotlib!=3.6.1,>=3.4->seaborn) (11.0.0)\n",
            "Requirement already satisfied: pyparsing>=2.3.1 in /usr/local/lib/python3.10/dist-packages (from matplotlib!=3.6.1,>=3.4->seaborn) (3.2.0)\n",
            "Requirement already satisfied: python-dateutil>=2.7 in /usr/local/lib/python3.10/dist-packages (from matplotlib!=3.6.1,>=3.4->seaborn) (2.8.2)\n",
            "Requirement already satisfied: pytz>=2020.1 in /usr/local/lib/python3.10/dist-packages (from pandas>=1.2->seaborn) (2024.2)\n",
            "Requirement already satisfied: tzdata>=2022.7 in /usr/local/lib/python3.10/dist-packages (from pandas>=1.2->seaborn) (2024.2)\n",
            "Requirement already satisfied: six>=1.5 in /usr/local/lib/python3.10/dist-packages (from python-dateutil>=2.7->matplotlib!=3.6.1,>=3.4->seaborn) (1.17.0)\n"
          ]
        }
      ]
    },
    {
      "cell_type": "code",
      "source": [
        "pip install scikit-learn\n"
      ],
      "metadata": {
        "colab": {
          "base_uri": "https://localhost:8080/"
        },
        "id": "SnJX4GiEElrJ",
        "outputId": "99f31a45-d096-4656-8f52-da7332ea7824"
      },
      "execution_count": null,
      "outputs": [
        {
          "output_type": "stream",
          "name": "stdout",
          "text": [
            "Requirement already satisfied: scikit-learn in /usr/local/lib/python3.10/dist-packages (1.6.0)\n",
            "Requirement already satisfied: numpy>=1.19.5 in /usr/local/lib/python3.10/dist-packages (from scikit-learn) (1.26.4)\n",
            "Requirement already satisfied: scipy>=1.6.0 in /usr/local/lib/python3.10/dist-packages (from scikit-learn) (1.13.1)\n",
            "Requirement already satisfied: joblib>=1.2.0 in /usr/local/lib/python3.10/dist-packages (from scikit-learn) (1.4.2)\n",
            "Requirement already satisfied: threadpoolctl>=3.1.0 in /usr/local/lib/python3.10/dist-packages (from scikit-learn) (3.5.0)\n"
          ]
        }
      ]
    },
    {
      "cell_type": "code",
      "source": [
        "pip install flask"
      ],
      "metadata": {
        "colab": {
          "base_uri": "https://localhost:8080/"
        },
        "id": "KL5jJnNBEpm4",
        "outputId": "4ee9a339-4c60-4fdd-9df5-e807b65d1337"
      },
      "execution_count": null,
      "outputs": [
        {
          "output_type": "stream",
          "name": "stdout",
          "text": [
            "Requirement already satisfied: flask in /usr/local/lib/python3.10/dist-packages (3.1.0)\n",
            "Requirement already satisfied: Werkzeug>=3.1 in /usr/local/lib/python3.10/dist-packages (from flask) (3.1.3)\n",
            "Requirement already satisfied: Jinja2>=3.1.2 in /usr/local/lib/python3.10/dist-packages (from flask) (3.1.4)\n",
            "Requirement already satisfied: itsdangerous>=2.2 in /usr/local/lib/python3.10/dist-packages (from flask) (2.2.0)\n",
            "Requirement already satisfied: click>=8.1.3 in /usr/local/lib/python3.10/dist-packages (from flask) (8.1.7)\n",
            "Requirement already satisfied: blinker>=1.9 in /usr/local/lib/python3.10/dist-packages (from flask) (1.9.0)\n",
            "Requirement already satisfied: MarkupSafe>=2.0 in /usr/local/lib/python3.10/dist-packages (from Jinja2>=3.1.2->flask) (3.0.2)\n"
          ]
        }
      ]
    },
    {
      "cell_type": "code",
      "source": [
        "pip install joblib"
      ],
      "metadata": {
        "colab": {
          "base_uri": "https://localhost:8080/"
        },
        "id": "2bFN3EE0Eq-C",
        "outputId": "963c693a-9932-4e6f-e0cb-bbb4b52a9dcf"
      },
      "execution_count": null,
      "outputs": [
        {
          "output_type": "stream",
          "name": "stdout",
          "text": [
            "Requirement already satisfied: joblib in /usr/local/lib/python3.10/dist-packages (1.4.2)\n"
          ]
        }
      ]
    },
    {
      "cell_type": "code",
      "source": [
        "from sklearn.model_selection import train_test_split\n",
        "from sklearn.ensemble import RandomForestClassifier\n",
        "from sklearn.preprocessing import StandardScaler, OneHotEncoder\n",
        "from sklearn.compose import ColumnTransformer\n",
        "from sklearn.pipeline import Pipeline\n",
        "from sklearn.feature_extraction.text import TfidfVectorizer\n",
        "from sklearn.metrics import classification_report\n",
        "import pandas as pd\n",
        "import warnings\n",
        "\n",
        "warnings.filterwarnings('ignore')\n",
        "\n",
        "\n",
        "file_path = \"/content/cmrit.bangalore_instagram_data.csv\"\n",
        "\n",
        "try:\n",
        "    data = pd.read_csv(file_path, encoding='latin1')\n",
        "    print(\"Data loaded successfully!\")\n",
        "    print(data.head())  # Display the first few rows of the dataset\n",
        "except FileNotFoundError:\n",
        "    print(\"Error: Dataset file not found. Please provide the correct file path.\")\n",
        "except UnicodeDecodeError as e:\n",
        "    print(f\"UnicodeDecodeError: {e}\")\n",
        "    print(\"Try using a different encoding like 'latin1' or 'ISO-8859-1'.\")\n",
        "\n",
        "print(\"All libraries loaded successfully!\")\n",
        "\n",
        "\n",
        "data['date'] = pd.to_datetime(data['date'], format='%d-%m-%Y %H:%M')\n",
        "data['hour'] = data['date'].dt.hour\n",
        "data['day'] = data['date'].dt.day_name()\n",
        "data['month'] = data['date'].dt.month\n",
        "data['year'] = data['date'].dt.year\n",
        "data['caption_length'] = data['caption'].apply(len)\n",
        "data['num_hashtags'] = data['hashtags'].apply(lambda x: len(x.split()))\n",
        "\n",
        "\n",
        "data['engagement'] = data['likes'] + data['comments'] + data['shares']\n",
        "\n",
        "\n",
        "def categorize_engagement(engagement):\n",
        "    if engagement < 50:  # Low engagement\n",
        "        return 'low'\n",
        "    elif 50 <= engagement < 100:  # Medium engagement\n",
        "        return 'medium'\n",
        "    else:  # High engagement\n",
        "        return 'high'\n",
        "\n",
        "\n",
        "data['engagement_category'] = data['engagement'].apply(categorize_engagement)\n",
        "\n",
        "\n",
        "data = data.drop(columns=['date', 'post_url', 'shares', 'likes', 'comments', 'engagement'])\n",
        "\n",
        "\n",
        "X = data.drop(columns=['engagement_category'])\n",
        "y = data['engagement_category']\n",
        "\n",
        "\n",
        "X_train, X_test, y_train, y_test = train_test_split(X, y, test_size=0.2, random_state=42)\n",
        "\n",
        "\n",
        "numeric_features = ['hour', 'month', 'year', 'caption_length', 'num_hashtags']\n",
        "categorical_features = ['day']\n",
        "text_features = ['caption', 'hashtags']\n",
        "\n",
        "\n",
        "preprocessor = ColumnTransformer(\n",
        "    transformers=[\n",
        "        ('num', StandardScaler(), numeric_features),\n",
        "        ('cat', OneHotEncoder(), categorical_features),\n",
        "        ('text', TfidfVectorizer(), 'caption'),\n",
        "        ('text2', TfidfVectorizer(), 'hashtags')\n",
        "    ])\n",
        "\n",
        "\n",
        "pipeline = Pipeline(steps=[\n",
        "    ('preprocessor', preprocessor),\n",
        "    ('classifier', RandomForestClassifier(n_estimators=100, random_state=42))\n",
        "])\n",
        "\n",
        "# Fit the model\n",
        "pipeline.fit(X_train, y_train)\n",
        "\n",
        "\n",
        "y_pred = pipeline.predict(X_test)\n",
        "print(classification_report(y_test, y_pred))\n",
        "\n",
        "# Example input for a new Instagram post prediction\n",
        "new_data = pd.DataFrame({\n",
        "    'caption': ['CMR Group of Institutions (CMRGI) hosted its annual Techno Meet for Society 2024 at the CMR Institute of Technology (CMRIT) on 23rd November 2024. This edition of Techno Meet for Society embraced the ethos of \"Explore, Experience and Enjoy\" in technology and innovation. During the exhibition, the teaching staff and students from various departments and schools under CMRIT presented innovative products and ideas, categorized into Startups, Hardware Projects, and Software Projects. The event showcased 34 projects and 2 product launches, including 18 software and 16 hardware projects, contributed by students and faculty. Visit our Website: https://www.cmr.edu.in/ For admissions: https://admissions.cmr.edu.in/'],\n",
        "    'hashtags': ['#TechnoMeet2024, #InnovationForSociety, #CMRIT, #CMRGI, #ExploreExperienceEnjoy, #TechInnovation, #StudentProjects, #TechStartups, #HardwareProjects, #SoftwareProjects, #TechExhibition, #CMRUniversity, #EducationForExcellence, #FutureReady, #DigitalInnovation, #TechCommunity'],\n",
        "    'hour': [12],  # Example hour feature\n",
        "    'day': ['Monday'],  # Example day feature\n",
        "    'month': [11],  # Example month feature\n",
        "    'year': [2024],  # Example year feature\n",
        "    'caption_length': [568],  # Example caption length\n",
        "    'num_hashtags': [347]  # Example hashtags\n",
        "})\n",
        "\n",
        "\n",
        "predicted_engagement_category = pipeline.predict(new_data)\n",
        "print(f\"Predicted Engagement Category for the new post: {predicted_engagement_category[0]}\")\n"
      ],
      "metadata": {
        "colab": {
          "base_uri": "https://localhost:8080/"
        },
        "id": "yivYWd4mEs0G",
        "outputId": "0880a994-9659-4345-c921-603b7164e9c9"
      },
      "execution_count": null,
      "outputs": [
        {
          "output_type": "stream",
          "name": "stdout",
          "text": [
            "Data loaded successfully!\n",
            "               date                                            caption  \\\n",
            "0  06-12-2024 16:22  Department of Artificial Intelligence and Mach...   \n",
            "1  06-12-2024 16:17  Codechef Club of the Department of Artificial ...   \n",
            "2  05-12-2024 02:14  Department of Computer Science and Engineering...   \n",
            "3  04-12-2024 12:34  Department of Electronics and Communication En...   \n",
            "4  04-12-2024 11:56  Codechef Club of the Department of Artificial ...   \n",
            "\n",
            "                                            hashtags  likes  comments  shares  \\\n",
            "0  #cmritbengaluru, #cmrit, #IIC_CMRIT, #mhrd, #m...     20         0       1   \n",
            "1  #cmritbengaluru, #cmrit, #IIC_CMRIT, #mhrd, #m...     23         0       0   \n",
            "2  #cmritbengaluru, #cmrit, #IIC_CMRIT, #mhrd, #m...     14         0       2   \n",
            "3  #cmritbengaluru, #cmrit, #IIC_CMRIT, #mhrd, #m...     14         0       0   \n",
            "4  #cmritbengaluru, #cmrit, #IIC_CMRIT, #mhrd, #m...     51         0       2   \n",
            "\n",
            "                                            post_url  \n",
            "0  https://scontent-atl3-1.cdninstagram.com/v/t51...  \n",
            "1  https://scontent-atl3-1.cdninstagram.com/v/t51...  \n",
            "2  https://scontent-atl3-3.cdninstagram.com/v/t51...  \n",
            "3  https://scontent-atl3-1.cdninstagram.com/v/t51...  \n",
            "4  https://scontent-atl3-1.cdninstagram.com/v/t51...  \n",
            "All libraries loaded successfully!\n",
            "              precision    recall  f1-score   support\n",
            "\n",
            "        high       0.56      0.90      0.69        10\n",
            "         low       0.67      0.92      0.77        26\n",
            "      medium       1.00      0.33      0.50        24\n",
            "\n",
            "    accuracy                           0.68        60\n",
            "   macro avg       0.74      0.72      0.66        60\n",
            "weighted avg       0.78      0.68      0.65        60\n",
            "\n",
            "Predicted Engagement Category for the new post: high\n"
          ]
        }
      ]
    },
    {
      "cell_type": "code",
      "source": [
        "import joblib\n",
        "\n",
        "# After training your model with pipeline\n",
        "joblib.dump(pipeline, 'engagement_model.pkl')\n"
      ],
      "metadata": {
        "colab": {
          "base_uri": "https://localhost:8080/"
        },
        "id": "f1iqkbZ-E9Wv",
        "outputId": "addbcf76-5c7a-4b33-e3ca-84584c79fc54"
      },
      "execution_count": null,
      "outputs": [
        {
          "output_type": "execute_result",
          "data": {
            "text/plain": [
              "['engagement_model.pkl']"
            ]
          },
          "metadata": {},
          "execution_count": 9
        }
      ]
    }
  ]
}