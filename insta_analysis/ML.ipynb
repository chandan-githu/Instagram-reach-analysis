{
  "nbformat": 4,
  "nbformat_minor": 0,
  "metadata": {
    "colab": {
      "provenance": []
    },
    "kernelspec": {
      "name": "python3",
      "display_name": "Python 3"
    },
    "language_info": {
      "name": "python"
    }
  },
  "cells": [
    {
      "cell_type": "code",
      "execution_count": 20,
      "metadata": {
        "colab": {
          "base_uri": "https://localhost:8080/"
        },
        "id": "qRd5zK28BaQR",
        "outputId": "52dff2d3-9573-4039-c1f3-14d84b898737"
      },
      "outputs": [
        {
          "output_type": "stream",
          "name": "stdout",
          "text": [
            "Requirement already satisfied: pandas in /usr/local/lib/python3.11/dist-packages (2.2.2)\n",
            "Requirement already satisfied: numpy>=1.23.2 in /usr/local/lib/python3.11/dist-packages (from pandas) (2.0.2)\n",
            "Requirement already satisfied: python-dateutil>=2.8.2 in /usr/local/lib/python3.11/dist-packages (from pandas) (2.8.2)\n",
            "Requirement already satisfied: pytz>=2020.1 in /usr/local/lib/python3.11/dist-packages (from pandas) (2025.2)\n",
            "Requirement already satisfied: tzdata>=2022.7 in /usr/local/lib/python3.11/dist-packages (from pandas) (2025.2)\n",
            "Requirement already satisfied: six>=1.5 in /usr/local/lib/python3.11/dist-packages (from python-dateutil>=2.8.2->pandas) (1.17.0)\n"
          ]
        }
      ],
      "source": [
        "pip install pandas"
      ]
    },
    {
      "cell_type": "code",
      "source": [
        "\n",
        "pip install numpy\n"
      ],
      "metadata": {
        "colab": {
          "base_uri": "https://localhost:8080/"
        },
        "id": "NoTvJ1fiBlKy",
        "outputId": "f20c0daa-1156-4ed7-b926-6dd21172fa8f"
      },
      "execution_count": 21,
      "outputs": [
        {
          "output_type": "stream",
          "name": "stdout",
          "text": [
            "Requirement already satisfied: numpy in /usr/local/lib/python3.11/dist-packages (2.0.2)\n"
          ]
        }
      ]
    },
    {
      "cell_type": "code",
      "source": [
        "pip install matplotlib\n"
      ],
      "metadata": {
        "colab": {
          "base_uri": "https://localhost:8080/"
        },
        "id": "dKt8lJS7Bpib",
        "outputId": "7e8dd0ef-2bdd-40cc-950f-a8635d8f1e4b"
      },
      "execution_count": 22,
      "outputs": [
        {
          "output_type": "stream",
          "name": "stdout",
          "text": [
            "Requirement already satisfied: matplotlib in /usr/local/lib/python3.11/dist-packages (3.10.0)\n",
            "Requirement already satisfied: contourpy>=1.0.1 in /usr/local/lib/python3.11/dist-packages (from matplotlib) (1.3.2)\n",
            "Requirement already satisfied: cycler>=0.10 in /usr/local/lib/python3.11/dist-packages (from matplotlib) (0.12.1)\n",
            "Requirement already satisfied: fonttools>=4.22.0 in /usr/local/lib/python3.11/dist-packages (from matplotlib) (4.57.0)\n",
            "Requirement already satisfied: kiwisolver>=1.3.1 in /usr/local/lib/python3.11/dist-packages (from matplotlib) (1.4.8)\n",
            "Requirement already satisfied: numpy>=1.23 in /usr/local/lib/python3.11/dist-packages (from matplotlib) (2.0.2)\n",
            "Requirement already satisfied: packaging>=20.0 in /usr/local/lib/python3.11/dist-packages (from matplotlib) (24.2)\n",
            "Requirement already satisfied: pillow>=8 in /usr/local/lib/python3.11/dist-packages (from matplotlib) (11.1.0)\n",
            "Requirement already satisfied: pyparsing>=2.3.1 in /usr/local/lib/python3.11/dist-packages (from matplotlib) (3.2.3)\n",
            "Requirement already satisfied: python-dateutil>=2.7 in /usr/local/lib/python3.11/dist-packages (from matplotlib) (2.8.2)\n",
            "Requirement already satisfied: six>=1.5 in /usr/local/lib/python3.11/dist-packages (from python-dateutil>=2.7->matplotlib) (1.17.0)\n"
          ]
        }
      ]
    },
    {
      "cell_type": "code",
      "source": [
        "pip install seaborn"
      ],
      "metadata": {
        "colab": {
          "base_uri": "https://localhost:8080/"
        },
        "id": "eYetbH_kBtgS",
        "outputId": "b7edb3bd-958d-4cbc-98d4-8810255d77b3"
      },
      "execution_count": 23,
      "outputs": [
        {
          "output_type": "stream",
          "name": "stdout",
          "text": [
            "Requirement already satisfied: seaborn in /usr/local/lib/python3.11/dist-packages (0.13.2)\n",
            "Requirement already satisfied: numpy!=1.24.0,>=1.20 in /usr/local/lib/python3.11/dist-packages (from seaborn) (2.0.2)\n",
            "Requirement already satisfied: pandas>=1.2 in /usr/local/lib/python3.11/dist-packages (from seaborn) (2.2.2)\n",
            "Requirement already satisfied: matplotlib!=3.6.1,>=3.4 in /usr/local/lib/python3.11/dist-packages (from seaborn) (3.10.0)\n",
            "Requirement already satisfied: contourpy>=1.0.1 in /usr/local/lib/python3.11/dist-packages (from matplotlib!=3.6.1,>=3.4->seaborn) (1.3.2)\n",
            "Requirement already satisfied: cycler>=0.10 in /usr/local/lib/python3.11/dist-packages (from matplotlib!=3.6.1,>=3.4->seaborn) (0.12.1)\n",
            "Requirement already satisfied: fonttools>=4.22.0 in /usr/local/lib/python3.11/dist-packages (from matplotlib!=3.6.1,>=3.4->seaborn) (4.57.0)\n",
            "Requirement already satisfied: kiwisolver>=1.3.1 in /usr/local/lib/python3.11/dist-packages (from matplotlib!=3.6.1,>=3.4->seaborn) (1.4.8)\n",
            "Requirement already satisfied: packaging>=20.0 in /usr/local/lib/python3.11/dist-packages (from matplotlib!=3.6.1,>=3.4->seaborn) (24.2)\n",
            "Requirement already satisfied: pillow>=8 in /usr/local/lib/python3.11/dist-packages (from matplotlib!=3.6.1,>=3.4->seaborn) (11.1.0)\n",
            "Requirement already satisfied: pyparsing>=2.3.1 in /usr/local/lib/python3.11/dist-packages (from matplotlib!=3.6.1,>=3.4->seaborn) (3.2.3)\n",
            "Requirement already satisfied: python-dateutil>=2.7 in /usr/local/lib/python3.11/dist-packages (from matplotlib!=3.6.1,>=3.4->seaborn) (2.8.2)\n",
            "Requirement already satisfied: pytz>=2020.1 in /usr/local/lib/python3.11/dist-packages (from pandas>=1.2->seaborn) (2025.2)\n",
            "Requirement already satisfied: tzdata>=2022.7 in /usr/local/lib/python3.11/dist-packages (from pandas>=1.2->seaborn) (2025.2)\n",
            "Requirement already satisfied: six>=1.5 in /usr/local/lib/python3.11/dist-packages (from python-dateutil>=2.7->matplotlib!=3.6.1,>=3.4->seaborn) (1.17.0)\n"
          ]
        }
      ]
    },
    {
      "cell_type": "code",
      "source": [
        "pip install scikit-learn"
      ],
      "metadata": {
        "colab": {
          "base_uri": "https://localhost:8080/"
        },
        "id": "xyn40tP6Bxk-",
        "outputId": "efd48d00-aa72-480e-c0de-ff0db5a210a7"
      },
      "execution_count": 24,
      "outputs": [
        {
          "output_type": "stream",
          "name": "stdout",
          "text": [
            "Requirement already satisfied: scikit-learn in /usr/local/lib/python3.11/dist-packages (1.6.1)\n",
            "Requirement already satisfied: numpy>=1.19.5 in /usr/local/lib/python3.11/dist-packages (from scikit-learn) (2.0.2)\n",
            "Requirement already satisfied: scipy>=1.6.0 in /usr/local/lib/python3.11/dist-packages (from scikit-learn) (1.14.1)\n",
            "Requirement already satisfied: joblib>=1.2.0 in /usr/local/lib/python3.11/dist-packages (from scikit-learn) (1.4.2)\n",
            "Requirement already satisfied: threadpoolctl>=3.1.0 in /usr/local/lib/python3.11/dist-packages (from scikit-learn) (3.6.0)\n"
          ]
        }
      ]
    },
    {
      "cell_type": "code",
      "source": [
        "pip install xgboost"
      ],
      "metadata": {
        "colab": {
          "base_uri": "https://localhost:8080/"
        },
        "id": "20n4eZulB1Rm",
        "outputId": "c0d52505-f664-4d87-9b8b-182171401459"
      },
      "execution_count": 25,
      "outputs": [
        {
          "output_type": "stream",
          "name": "stdout",
          "text": [
            "Requirement already satisfied: xgboost in /usr/local/lib/python3.11/dist-packages (2.1.4)\n",
            "Requirement already satisfied: numpy in /usr/local/lib/python3.11/dist-packages (from xgboost) (2.0.2)\n",
            "Requirement already satisfied: nvidia-nccl-cu12 in /usr/local/lib/python3.11/dist-packages (from xgboost) (2.21.5)\n",
            "Requirement already satisfied: scipy in /usr/local/lib/python3.11/dist-packages (from xgboost) (1.14.1)\n"
          ]
        }
      ]
    },
    {
      "cell_type": "code",
      "source": [
        "import pandas as pd\n",
        "import numpy as np\n",
        "import matplotlib.pyplot as plt\n",
        "import seaborn as sns\n",
        "\n",
        "from sklearn.model_selection import train_test_split, cross_val_score\n",
        "from sklearn.preprocessing import StandardScaler\n",
        "from sklearn.metrics import accuracy_score, classification_report, confusion_matrix, roc_auc_score\n",
        "from sklearn.linear_model import LogisticRegression\n",
        "from sklearn.ensemble import RandomForestClassifier\n",
        "from xgboost import XGBClassifier\n",
        "from sklearn.svm import SVC\n",
        "from sklearn.neighbors import KNeighborsClassifier\n",
        "import warnings\n",
        "warnings.filterwarnings('ignore')\n",
        "\n",
        "# Load data (replace 'your_file.csv' with your actual dataset)\n",
        "file_path = \"/cmrit.bangalore_instagram_data_.csv\"  # Update with your dataset's path\n",
        "\n",
        "try:\n",
        "    # Specify 'latin1' or 'ISO-8859-1' encoding to handle non-UTF-8 characters\n",
        "    data = pd.read_csv(file_path, encoding='latin1')\n",
        "    print(\"Data loaded successfully!\")\n",
        "    print(data.head())  # Display the first few rows of the dataset\n",
        "except FileNotFoundError:\n",
        "    print(\"Error: Dataset file not found. Please provide the correct file path.\")\n",
        "except UnicodeDecodeError as e:\n",
        "    print(f\"UnicodeDecodeError: {e}\")\n",
        "    print(\"Try using a different encoding like 'latin1' or 'ISO-8859-1'.\")\n",
        "\n",
        "print(\"All libraries loaded successfully!\")"
      ],
      "metadata": {
        "colab": {
          "base_uri": "https://localhost:8080/"
        },
        "id": "_MEGApFtB4RT",
        "outputId": "a7be29ca-5d14-492e-f85b-a38c1c2f0aa7"
      },
      "execution_count": 26,
      "outputs": [
        {
          "output_type": "stream",
          "name": "stdout",
          "text": [
            "Data loaded successfully!\n",
            "               date                                            caption  \\\n",
            "0  06-12-2024 16:22  Department of Artificial Intelligence and Mach...   \n",
            "1  06-12-2024 16:17  Codechef Club of the Department of Artificial ...   \n",
            "2  05-12-2024 02:14  Department of Computer Science and Engineering...   \n",
            "3  04-12-2024 12:34  Department of Electronics and Communication En...   \n",
            "4  04-12-2024 11:56  Codechef Club of the Department of Artificial ...   \n",
            "\n",
            "                                            hashtags  likes  comments  \\\n",
            "0  #cmritbengaluru, #cmrit, #IIC_CMRIT, #mhrd, #m...   20.0       0.0   \n",
            "1  #cmritbengaluru, #cmrit, #IIC_CMRIT, #mhrd, #m...   23.0       0.0   \n",
            "2  #cmritbengaluru, #cmrit, #IIC_CMRIT, #mhrd, #m...   14.0       0.0   \n",
            "3  #cmritbengaluru, #cmrit, #IIC_CMRIT, #mhrd, #m...   14.0       0.0   \n",
            "4  #cmritbengaluru, #cmrit, #IIC_CMRIT, #mhrd, #m...   51.0       0.0   \n",
            "\n",
            "                                            post_url  \n",
            "0  https://scontent-atl3-1.cdninstagram.com/v/t51...  \n",
            "1  https://scontent-atl3-1.cdninstagram.com/v/t51...  \n",
            "2  https://scontent-atl3-3.cdninstagram.com/v/t51...  \n",
            "3  https://scontent-atl3-1.cdninstagram.com/v/t51...  \n",
            "4  https://scontent-atl3-1.cdninstagram.com/v/t51...  \n",
            "All libraries loaded successfully!\n"
          ]
        }
      ]
    },
    {
      "cell_type": "code",
      "source": [
        "data['date'] = pd.to_datetime(data['date'], format='%d-%m-%Y %H:%M')\n",
        "data['hour'] = data['date'].dt.hour\n",
        "data['day'] = data['date'].dt.day_name()\n",
        "data['month'] = data['date'].dt.month\n",
        "data['year'] = data['date'].dt.year\n",
        "data['caption_length'] = data['caption'].str.len()\n",
        "data['num_hashtags'] = data['hashtags'].astype(str).apply(lambda x: len(x.split()) if isinstance(x, str) else 0)\n",
        "\n",
        "data['engagement'] = data['likes'] + data['comments']\n",
        "data['high_engagement'] = (data['engagement'] > data['engagement'].median()).astype(int)\n",
        "\n",
        "# Drop unnecessary columns\n",
        "data=data.drop(columns=['date', 'post_url', 'engagement'])"
      ],
      "metadata": {
        "id": "p_q7XOfYCgAF"
      },
      "execution_count": 28,
      "outputs": []
    },
    {
      "cell_type": "code",
      "source": [
        "from sklearn.impute import SimpleImputer\n",
        "features = ['hour', 'day', 'month', 'year', 'caption_length', 'num_hashtags']\n",
        "X = pd.get_dummies(data[features], columns=['day'], drop_first=True)  # One-hot encode 'day'\n",
        "y = data['high_engagement']\n",
        "\n",
        "# Split the data\n",
        "X_train, X_test, y_train, y_test = train_test_split(X, y, test_size=0.2, random_state=42)\n",
        "\n",
        "# Impute missing values using SimpleImputer\n",
        "imputer = SimpleImputer(strategy='mean')  # Replace 'mean' with other strategies if needed\n",
        "X_train = imputer.fit_transform(X_train)\n",
        "X_test = imputer.transform(X_test)\n",
        "\n",
        "# Now you can train your model\n",
        "lr = LogisticRegression()\n",
        "lr.fit(X_train, y_train)\n",
        "lr_pred = lr.predict(X_test)\n",
        "lr_acc = accuracy_score(y_test, lr_pred)\n",
        "print(\"Logistic Regression Accuracy:\", lr_acc)"
      ],
      "metadata": {
        "colab": {
          "base_uri": "https://localhost:8080/"
        },
        "id": "qL1r0L1kFpmx",
        "outputId": "dee035e3-64f2-4d79-9fbc-6269c000937a"
      },
      "execution_count": 18,
      "outputs": [
        {
          "output_type": "stream",
          "name": "stdout",
          "text": [
            "Logistic Regression Accuracy: 0.5666666666666667\n"
          ]
        }
      ]
    },
    {
      "cell_type": "code",
      "source": [
        "rf = RandomForestClassifier(random_state=42)\n",
        "rf.fit(X_train, y_train)\n",
        "rf_pred = rf.predict(X_test)\n",
        "rf_acc = accuracy_score(y_test, rf_pred)\n",
        "print(\"Random Forest Accuracy:\", rf_acc)"
      ],
      "metadata": {
        "colab": {
          "base_uri": "https://localhost:8080/"
        },
        "id": "oSNqz3EmF3Y1",
        "outputId": "7b8697bc-637b-40f6-b7d1-c547032d9ae0"
      },
      "execution_count": null,
      "outputs": [
        {
          "output_type": "stream",
          "name": "stdout",
          "text": [
            "Random Forest Accuracy: 1.0\n"
          ]
        }
      ]
    },
    {
      "cell_type": "code",
      "source": [
        "xgb = XGBClassifier(random_state=42, use_label_encoder=False, eval_metric='logloss')\n",
        "xgb.fit(X_train, y_train)\n",
        "xgb_pred = xgb.predict(X_test)\n",
        "xgb_acc = accuracy_score(y_test, xgb_pred)\n",
        "print(\"XGBoost Accuracy:\", xgb_acc)"
      ],
      "metadata": {
        "colab": {
          "base_uri": "https://localhost:8080/"
        },
        "id": "kzLp5ELEF5fu",
        "outputId": "6179c063-8e5b-4348-8b82-5c8768e6437c"
      },
      "execution_count": null,
      "outputs": [
        {
          "output_type": "stream",
          "name": "stdout",
          "text": [
            "XGBoost Accuracy: 1.0\n"
          ]
        }
      ]
    },
    {
      "cell_type": "code",
      "source": [
        "svm = SVC(probability=True)\n",
        "svm.fit(X_train, y_train)\n",
        "svm_pred = svm.predict(X_test)\n",
        "svm_acc = accuracy_score(y_test, svm_pred)\n",
        "print(\"SVM Accuracy:\", svm_acc)\n"
      ],
      "metadata": {
        "colab": {
          "base_uri": "https://localhost:8080/"
        },
        "id": "0JNtP0yDF92v",
        "outputId": "7223c33e-4076-419e-b818-715d72cf67d1"
      },
      "execution_count": null,
      "outputs": [
        {
          "output_type": "stream",
          "name": "stdout",
          "text": [
            "SVM Accuracy: 0.7166666666666667\n"
          ]
        }
      ]
    },
    {
      "cell_type": "code",
      "source": [
        "knn = KNeighborsClassifier()\n",
        "knn.fit(X_train, y_train)\n",
        "knn_pred = knn.predict(X_test)\n",
        "knn_acc = accuracy_score(y_test, knn_pred)\n",
        "print(\"KNN Accuracy:\", knn_acc)"
      ],
      "metadata": {
        "colab": {
          "base_uri": "https://localhost:8080/"
        },
        "id": "j37mQyDHGBou",
        "outputId": "fd49b6dd-0bb1-42a9-9ea6-aff2436338e2"
      },
      "execution_count": null,
      "outputs": [
        {
          "output_type": "stream",
          "name": "stdout",
          "text": [
            "KNN Accuracy: 0.6666666666666666\n"
          ]
        }
      ]
    },
    {
      "cell_type": "code",
      "source": [
        "# Collect accuracy scores\n",
        "model_scores = {\n",
        "    \"Logistic Regression\": lr_acc,\n",
        "    \"Random Forest\": rf_acc,\n",
        "    \"XGBoost\": xgb_acc,\n",
        "    \"SVM\": svm_acc,\n",
        "    \"KNN\": knn_acc\n",
        "}\n",
        "\n",
        "# Plot the accuracy scores\n",
        "plt.figure(figsize=(10, 5))\n",
        "sns.barplot(x=list(model_scores.keys()), y=list(model_scores.values()))\n",
        "plt.title(\"Model Comparison (Accuracy)\")\n",
        "plt.ylabel(\"Accuracy\")\n",
        "plt.xlabel(\"Model\")\n",
        "plt.show()\n"
      ],
      "metadata": {
        "colab": {
          "base_uri": "https://localhost:8080/",
          "height": 487
        },
        "id": "6S4iz9oJGIyw",
        "outputId": "d978e76f-03fe-41b8-dcf9-f00829fc3d51"
      },
      "execution_count": null,
      "outputs": [
        {
          "output_type": "display_data",
          "data": {
            "text/plain": [
              "<Figure size 1000x500 with 1 Axes>"
            ],
            "image/png": "[encoded data removed]"
          },
          "metadata": {}
        }
      ]
    },
    {
      "cell_type": "code",
      "source": [
        "best_model = max(model_scores, key=model_scores.get)\n",
        "print(f\"Best Model: {best_model}\")\n",
        "\n",
        "# Evaluate detailed metrics for the best model\n",
        "if best_model == \"Logistic Regression\":\n",
        "    pred = lr_pred\n",
        "elif best_model == \"Random Forest\":\n",
        "    pred = rf_pred\n",
        "elif best_model == \"XGBoost\":\n",
        "    pred = xgb_pred\n",
        "elif best_model == \"SVM\":\n",
        "    pred = svm_pred\n",
        "else:\n",
        "    pred = knn_pred\n",
        "\n",
        "print(\"Confusion Matrix:\")\n",
        "print(confusion_matrix(y_test, pred))\n",
        "print(\"\\nClassification Report:\")\n",
        "print(classification_report(y_test, pred))\n"
      ],
      "metadata": {
        "colab": {
          "base_uri": "https://localhost:8080/"
        },
        "id": "W_RFSpcJGLv_",
        "outputId": "1eff0414-df12-49c5-92b4-fbe2a8a949e1"
      },
      "execution_count": null,
      "outputs": [
        {
          "output_type": "stream",
          "name": "stdout",
          "text": [
            "Best Model: Random Forest\n",
            "Confusion Matrix:\n",
            "[[25  0]\n",
            " [ 0 35]]\n",
            "\n",
            "Classification Report:\n",
            "              precision    recall  f1-score   support\n",
            "\n",
            "           0       1.00      1.00      1.00        25\n",
            "           1       1.00      1.00      1.00        35\n",
            "\n",
            "    accuracy                           1.00        60\n",
            "   macro avg       1.00      1.00      1.00        60\n",
            "weighted avg       1.00      1.00      1.00        60\n",
            "\n"
          ]
        }
      ]
    },
    {
      "cell_type": "code",
      "source": [
        "import matplotlib.pyplot as plt\n",
        "from sklearn.metrics import roc_curve, auc\n",
        "from sklearn.preprocessing import label_binarize\n",
        "from sklearn.model_selection import train_test_split\n",
        "\n",
        "# Ensure y is binarized\n",
        "y_binarized = label_binarize(y, classes=[0, 1])  # Modify classes as per your target variable"
      ],
      "metadata": {
        "id": "OgDicbsXMruG"
      },
      "execution_count": null,
      "outputs": []
    },
    {
      "cell_type": "code",
      "source": [
        "from sklearn.model_selection import train_test_split\n",
        "import xgboost as xgb\n",
        "from sklearn.preprocessing import StandardScaler, OneHotEncoder\n",
        "from sklearn.compose import ColumnTransformer\n",
        "from sklearn.pipeline import Pipeline\n",
        "from sklearn.feature_extraction.text import TfidfVectorizer\n",
        "import warnings\n",
        "warnings.filterwarnings('ignore')\n",
        "\n",
        "# Load data (replace 'your_file.csv' with your actual dataset)\n",
        "file_path = \"/content/cmrit.bangalore_instagram_data.csv\"  # Update with your dataset's path\n",
        "\n",
        "try:\n",
        "    # Specify 'latin1' or 'ISO-8859-1' encoding to handle non-UTF-8 characters\n",
        "    data = pd.read_csv(file_path, encoding='latin1')\n",
        "    print(\"Data loaded successfully!\")\n",
        "    print(data.head())  # Display the first few rows of the dataset\n",
        "except FileNotFoundError:\n",
        "    print(\"Error: Dataset file not found. Please provide the correct file path.\")\n",
        "except UnicodeDecodeError as e:\n",
        "    print(f\"UnicodeDecodeError: {e}\")\n",
        "    print(\"Try using a different encoding like 'latin1' or 'ISO-8859-1'.\")\n",
        "\n",
        "print(\"All libraries loaded successfully!\")\n",
        "\n",
        "\n",
        "# Preprocess the data\n",
        "data['date'] = pd.to_datetime(data['date'], format='%d-%m-%Y %H:%M')\n",
        "data['hour'] = data['date'].dt.hour\n",
        "data['day'] = data['date'].dt.day_name()\n",
        "data['month'] = data['date'].dt.month\n",
        "data['year'] = data['date'].dt.year\n",
        "data['caption_length'] = data['caption'].apply(len)\n",
        "data['num_hashtags'] = data['hashtags'].apply(lambda x: len(x.split()))\n",
        "\n",
        "data = data.drop(columns=['date', 'post_url','comments','shares'])\n",
        "\n",
        "X = data.drop(columns=['likes'])\n",
        "y = data['likes']\n",
        "\n",
        "# Split data into train/test sets\n",
        "X_train, X_test, y_train, y_test = train_test_split(X, y, test_size=0.2, random_state=42)\n",
        "\n",
        "# Preprocessor setup for different types of features\n",
        "numeric_features = ['hour', 'month', 'year', 'caption_length', 'num_hashtags']\n",
        "categorical_features = ['day']  # One-hot encoding for categorical columns\n",
        "text_features = ['caption', 'hashtags']\n",
        "\n",
        "# Column transformer setup\n",
        "preprocessor = ColumnTransformer(\n",
        "    transformers=[\n",
        "        ('num', StandardScaler(), numeric_features),\n",
        "        ('cat', OneHotEncoder(), categorical_features),\n",
        "        ('text', TfidfVectorizer(), 'caption'),\n",
        "        ('text2', TfidfVectorizer(), 'hashtags')\n",
        "    ])\n",
        "\n",
        "# Manually fit the preprocessor first\n",
        "preprocessed_data = preprocessor.fit_transform(X_train)\n",
        "\n",
        "# Train an XGBoost model directly without the pipeline\n",
        "xgb_model = xgb.XGBRegressor(n_estimators=500, learning_rate=0.1, max_depth=6, random_state=42)\n",
        "xgb_model.fit(preprocessed_data, y_train)\n",
        "\n",
        "# Use the model for predictions\n",
        "new_data = pd.DataFrame({\n",
        "    'caption': ['Department of Artificial Intelligence and Machine Learning in association with CMRIT - Institutions Innovation Council organized a Demo Day: Showcasing Innovative Projects of 3rd Semester Students on 04th December2024. @mhrd.innovationcell'],\n",
        "    'hashtags': ['#cmritbengaluru, #cmrit, #IIC_CMRIT, #mhrd, #mhrdiic, #iic, #institution, #innovation, #council, #Department, #artificialintelligence, #machinelearning, #AI, #ML, #AIML, #DemoDay, #showcasing, #innovative, #Projects, #third, #semester, #students'],\n",
        "    'hour': [16],  # Example hour feature\n",
        "    'day': ['Friday'],  # Example day feature\n",
        "    'month': [12],  # Example month feature\n",
        "    'year': [2024],  # Example year feature\n",
        "    'caption_length': [270],  # Example caption length\n",
        "    'num_hashtags': [281]  # Example number of hashtags\n",
        "})\n",
        "\n",
        "# Manually preprocess new data\n",
        "new_data_transformed = preprocessor.transform(new_data)\n",
        "\n",
        "# Predict likes for the new Instagram post\n",
        "predicted_likes = xgb_model.predict(new_data_transformed)\n",
        "\n",
        "print(f\"Predicted Likes for the new post: {predicted_likes[0]}\")\n",
        "\n"
      ],
      "metadata": {
        "colab": {
          "base_uri": "https://localhost:8080/"
        },
        "id": "qk8eRBbbIslV",
        "outputId": "e2475e3b-1390-40c8-8dec-613bffa23d5f"
      },
      "execution_count": null,
      "outputs": [
        {
          "output_type": "stream",
          "name": "stdout",
          "text": [
            "Data loaded successfully!\n",
            "               date                                            caption  \\\n",
            "0  06-12-2024 16:22  Department of Artificial Intelligence and Mach...   \n",
            "1  06-12-2024 16:17  Codechef Club of the Department of Artificial ...   \n",
            "2  05-12-2024 02:14  Department of Computer Science and Engineering...   \n",
            "3  04-12-2024 12:34  Department of Electronics and Communication En...   \n",
            "4  04-12-2024 11:56  Codechef Club of the Department of Artificial ...   \n",
            "\n",
            "                                            hashtags  likes  comments  shares  \\\n",
            "0  #cmritbengaluru, #cmrit, #IIC_CMRIT, #mhrd, #m...     20         0       1   \n",
            "1  #cmritbengaluru, #cmrit, #IIC_CMRIT, #mhrd, #m...     23         0       0   \n",
            "2  #cmritbengaluru, #cmrit, #IIC_CMRIT, #mhrd, #m...     14         0       2   \n",
            "3  #cmritbengaluru, #cmrit, #IIC_CMRIT, #mhrd, #m...     14         0       0   \n",
            "4  #cmritbengaluru, #cmrit, #IIC_CMRIT, #mhrd, #m...     51         0       2   \n",
            "\n",
            "                                            post_url  \n",
            "0  https://scontent-atl3-1.cdninstagram.com/v/t51...  \n",
            "1  https://scontent-atl3-1.cdninstagram.com/v/t51...  \n",
            "2  https://scontent-atl3-3.cdninstagram.com/v/t51...  \n",
            "3  https://scontent-atl3-1.cdninstagram.com/v/t51...  \n",
            "4  https://scontent-atl3-1.cdninstagram.com/v/t51...  \n",
            "All libraries loaded successfully!\n",
            "Predicted Likes for the new post: 45.32476806640625\n"
          ]
        }
      ]
    },
    {
      "cell_type": "markdown",
      "source": [],
      "metadata": {
        "id": "9spsDFqvoGCy"
      }
    },
    {
      "cell_type": "code",
      "source": [
        "\n",
        "from sklearn.metrics import mean_squared_error, mean_absolute_error, r2_score\n",
        "\n",
        "# Preprocess the test data\n",
        "X_test_transformed = preprocessor.transform(X_test)\n",
        "\n",
        "# Predict on the test set\n",
        "y_pred = xgb_model.predict(X_test_transformed)\n",
        "\n",
        "# Calculate MSE, MAE, and R² scores\n",
        "mse = mean_squared_error(y_test, y_pred)\n",
        "mae = mean_absolute_error(y_test, y_pred)\n",
        "r2 = r2_score(y_test, y_pred)\n",
        "\n",
        "# Print the evaluation metrics\n",
        "print(f\"Mean Squared Error (MSE): {mse}\")\n",
        "print(f\"Mean Absolute Error (MAE): {mae}\")\n",
        "print(f\"R-squared (R²): {r2}\")"
      ],
      "metadata": {
        "colab": {
          "base_uri": "https://localhost:8080/"
        },
        "id": "9JRlohTtI9HH",
        "outputId": "e675f8ae-0539-4fb2-df53-74dd1cf173dc"
      },
      "execution_count": null,
      "outputs": [
        {
          "output_type": "stream",
          "name": "stdout",
          "text": [
            "Mean Squared Error (MSE): 7547.751953125\n",
            "Mean Absolute Error (MAE): 46.363197326660156\n",
            "R-squared (R²): 0.7313621044158936\n"
          ]
        }
      ]
    },
    {
      "cell_type": "code",
      "source": [
        "import joblib\n",
        "\n",
        "# Save the preprocessor\n",
        "joblib.dump(preprocessor, 'preprocessor.pkl')\n",
        "\n",
        "# Save the XGBoost model\n",
        "joblib.dump(xgb_model, 'xgboost_model.pkl')\n",
        "\n",
        "print(\"Model and preprocessor saved successfully!\")"
      ],
      "metadata": {
        "colab": {
          "base_uri": "https://localhost:8080/"
        },
        "id": "vWCvRsoDJFSL",
        "outputId": "3a14dff0-24c0-42a4-ea5f-c63b6a4efc0a"
      },
      "execution_count": null,
      "outputs": [
        {
          "output_type": "stream",
          "name": "stdout",
          "text": [
            "Model and preprocessor saved successfully!\n"
          ]
        }
      ]
    },
    {
      "cell_type": "code",
      "source": [
        "# Load the preprocessor\n",
        "preprocessor_loaded = joblib.load('preprocessor.pkl')\n",
        "\n",
        "# Load the XGBoost model\n",
        "xgb_model_loaded = joblib.load('xgboost_model.pkl')\n",
        "\n",
        "print(\"Model and preprocessor loaded successfully!\")"
      ],
      "metadata": {
        "colab": {
          "base_uri": "https://localhost:8080/"
        },
        "id": "dNEvdVjxJoL5",
        "outputId": "4c8cb85e-3e26-4cda-d91c-bf9486194d4a"
      },
      "execution_count": null,
      "outputs": [
        {
          "output_type": "stream",
          "name": "stdout",
          "text": [
            "Model and preprocessor loaded successfully!\n"
          ]
        }
      ]
    }
  ]
}