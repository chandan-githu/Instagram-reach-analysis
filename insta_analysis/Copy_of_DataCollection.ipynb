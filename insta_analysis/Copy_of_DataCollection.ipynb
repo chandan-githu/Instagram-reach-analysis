{
  "nbformat": 4,
  "nbformat_minor": 0,
  "metadata": {
    "colab": {
      "provenance": []
    },
    "kernelspec": {
      "name": "python3",
      "display_name": "Python 3"
    },
    "language_info": {
      "name": "python"
    }
  },
  "cells": [
    {
      "cell_type": "code",
      "execution_count": null,
      "metadata": {
        "colab": {
          "base_uri": "https://localhost:8080/"
        },
        "id": "FWSxZfj-PE3J",
        "outputId": "ba86599d-cefa-4a15-a20f-7cdf46a541e2"
      },
      "outputs": [
        {
          "output_type": "stream",
          "name": "stdout",
          "text": [
            "Collecting instaloader\n",
            "  Downloading instaloader-4.14.1-py3-none-any.whl.metadata (6.7 kB)\n",
            "Requirement already satisfied: requests>=2.25 in /usr/local/lib/python3.11/dist-packages (from instaloader) (2.32.3)\n",
            "Requirement already satisfied: charset-normalizer<4,>=2 in /usr/local/lib/python3.11/dist-packages (from requests>=2.25->instaloader) (3.4.1)\n",
            "Requirement already satisfied: idna<4,>=2.5 in /usr/local/lib/python3.11/dist-packages (from requests>=2.25->instaloader) (3.10)\n",
            "Requirement already satisfied: urllib3<3,>=1.21.1 in /usr/local/lib/python3.11/dist-packages (from requests>=2.25->instaloader) (2.3.0)\n",
            "Requirement already satisfied: certifi>=2017.4.17 in /usr/local/lib/python3.11/dist-packages (from requests>=2.25->instaloader) (2025.1.31)\n",
            "Downloading instaloader-4.14.1-py3-none-any.whl (67 kB)\n",
            "\u001b[2K   \u001b[90m━━━━━━━━━━━━━━━━━━━━━━━━━━━━━━━━━━━━━━━━\u001b[0m \u001b[32m67.9/67.9 kB\u001b[0m \u001b[31m1.8 MB/s\u001b[0m eta \u001b[36m0:00:00\u001b[0m\n",
            "\u001b[?25hInstalling collected packages: instaloader\n",
            "Successfully installed instaloader-4.14.1\n"
          ]
        }
      ],
      "source": [
        "pip install instaloader"
      ]
    },
    {
      "cell_type": "code",
      "source": [
        "pip install pandas"
      ],
      "metadata": {
        "colab": {
          "base_uri": "https://localhost:8080/"
        },
        "id": "CA5-Cy3RPOYG",
        "outputId": "be6fabde-49bf-43a4-ef21-ae4598082f36"
      },
      "execution_count": null,
      "outputs": [
        {
          "output_type": "stream",
          "name": "stdout",
          "text": [
            "Requirement already satisfied: pandas in /usr/local/lib/python3.11/dist-packages (2.2.2)\n",
            "Requirement already satisfied: numpy>=1.23.2 in /usr/local/lib/python3.11/dist-packages (from pandas) (1.26.4)\n",
            "Requirement already satisfied: python-dateutil>=2.8.2 in /usr/local/lib/python3.11/dist-packages (from pandas) (2.8.2)\n",
            "Requirement already satisfied: pytz>=2020.1 in /usr/local/lib/python3.11/dist-packages (from pandas) (2025.1)\n",
            "Requirement already satisfied: tzdata>=2022.7 in /usr/local/lib/python3.11/dist-packages (from pandas) (2025.1)\n",
            "Requirement already satisfied: six>=1.5 in /usr/local/lib/python3.11/dist-packages (from python-dateutil>=2.8.2->pandas) (1.17.0)\n"
          ]
        }
      ]
    },
    {
      "cell_type": "code",
      "source": [
        "import instaloader\n",
        "import pandas as pd\n",
        "import time\n",
        "import random\n",
        "import os\n",
        "import re  # Import the regular expression module\n",
        "\n",
        "# Initialize Instaloader\n",
        "loader = instaloader.Instaloader()\n",
        "\n",
        "# Load or login session\n",
        "username = ''\n",
        "password = ''\n",
        "try:\n",
        "    loader.load_session_from_file(username)\n",
        "except FileNotFoundError:\n",
        "    loader.login(username, password)\n",
        "    loader.save_session_to_file()\n",
        "\n",
        "# Profile name\n",
        "profile_name = 'cmrit.bangalore'\n",
        "\n",
        "# Fetch profile data\n",
        "try:\n",
        "    profile = instaloader.Profile.from_username(loader.context, profile_name)\n",
        "except instaloader.exceptions.ProfileNotExistsException:\n",
        "    print(f\"Profile '{profile_name}' not found.\")\n",
        "    exit()\n",
        "\n",
        "# Data collection\n",
        "data = []\n",
        "try:\n",
        "    skip_count = 0  # Number of posts to skip\n",
        "    post_counter = 50  # Number of posts to collect after skipping\n",
        "    max_posts = 50     # Number of posts to collect in total\n",
        "\n",
        "    for post_index, post in enumerate(profile.get_posts()):\n",
        "        if post_index < skip_count:\n",
        "            continue  # Skip the first `skip_count` posts\n",
        "\n",
        "        if post_counter >= max_posts:  # Stop after collecting the desired number of posts\n",
        "            break\n",
        "\n",
        "        # Check if the post has a caption\n",
        "        caption = post.caption if post.caption else \"\"\n",
        "\n",
        "        # Extract hashtags from the caption\n",
        "        hashtags = re.findall(r'#\\w+', caption)  # Regular expression to find hashtags\n",
        "\n",
        "        # Collect post data\n",
        "        post_info = {\n",
        "            \"date\": post.date,\n",
        "            \"caption\": caption,\n",
        "            \"hashtags\": ', '.join(hashtags),  # Store hashtags as a comma-separated string\n",
        "            \"likes\": post.likes,\n",
        "            \"comments\": post.comments,\n",
        "            \"post_url\": post.url\n",
        "        }\n",
        "        data.append(post_info)\n",
        "        post_counter += 1\n",
        "        time.sleep(random.uniform(61, 63))  # Random delay\n",
        "except instaloader.exceptions.TooManyRequestsException:\n",
        "    print(\"Rate limit reached. Try again later.\")\n",
        "\n",
        "# Save data to CSV\n",
        "if data:\n",
        "    output_file = os.path.abspath(f\"{profile_name}_instagram_next_200_posts.csv\")\n",
        "    df = pd.DataFrame(data)\n",
        "    df.to_csv(output_file, index=False)  # Saving to CSV\n",
        "    print(f\"Data saved to {output_file}\")\n",
        "else:\n",
        "    print(\"No data was collected.\")"
      ],
      "metadata": {
        "colab": {
          "base_uri": "https://localhost:8080/"
        },
        "id": "cnD26diLPR59",
        "outputId": "30c60ff0-bd21-44b8-ae20-ea3e0a372e6f"
      },
      "execution_count": null,
      "outputs": [
        {
          "output_type": "stream",
          "name": "stdout",
          "text": [
            "Data saved to cmrit.bangalore_instagram_next_200_posts.csv\n"
          ]
        }
      ]
    }
  ]
}